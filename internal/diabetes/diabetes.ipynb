{
  "cells": [
    {
      "metadata": {
        "_cell_guid": "b1076dfc-b9ad-4769-8c92-a6c4dae69d19",
        "_uuid": "8f2839f25d086af736a60e9eeb907d3b93b6e0e5",
        "trusted": true,
        "scrolled": true
      },
      "cell_type": "code",
      "source": "import numpy as np # linear algebra\nimport pandas as pd # data processing, CSV file I/O (e.g. pd.read_csv)\n\n# Input data files are available in the \"../input/\" directory.\n# For example, running this (by clicking run or pressing Shift+Enter) will list the files in the input directory\n\nimport os\nprint(os.listdir(\"../input\"))\n\n%matplotlib inline \nimport matplotlib.pyplot as plt \nimport matplotlib.gridspec as gridspec \nimport mpld3 as mpl\n\n\nfrom sklearn.model_selection import train_test_split\nfrom sklearn.linear_model import LogisticRegression\nfrom sklearn.cross_validation import KFold   #For K-fold cross validation\nfrom sklearn.ensemble import RandomForestClassifier\nfrom sklearn.tree import DecisionTreeClassifier, export_graphviz\nfrom sklearn import metrics\nfrom sklearn.metrics import accuracy_score\nfrom sklearn.svm import SVC\n\n\nimport xgboost as xgb",
      "execution_count": 28,
      "outputs": [
        {
          "output_type": "stream",
          "text": "['diabetes.csv']\n",
          "name": "stdout"
        }
      ]
    },
    {
      "metadata": {
        "_cell_guid": "79c7e3d0-c299-4dcb-8224-4455121ee9b0",
        "_uuid": "d629ff2d2480ee46fbb7e2d37f6b5fab8052498a",
        "trusted": true
      },
      "cell_type": "code",
      "source": "data = pd.read_csv('../input/diabetes.csv')",
      "execution_count": 3,
      "outputs": []
    },
    {
      "metadata": {
        "trusted": true,
        "_uuid": "da6ca31dca62d89349c8fcfe80c515bc10a285c5"
      },
      "cell_type": "code",
      "source": "data.head()",
      "execution_count": 4,
      "outputs": [
        {
          "output_type": "execute_result",
          "execution_count": 4,
          "data": {
            "text/plain": "   Pregnancies  Glucose  BloodPressure  SkinThickness  Insulin   BMI  \\\n0            6      148             72             35        0  33.6   \n1            1       85             66             29        0  26.6   \n2            8      183             64              0        0  23.3   \n3            1       89             66             23       94  28.1   \n4            0      137             40             35      168  43.1   \n\n   DiabetesPedigreeFunction  Age  Outcome  \n0                     0.627   50        1  \n1                     0.351   31        0  \n2                     0.672   32        1  \n3                     0.167   21        0  \n4                     2.288   33        1  ",
            "text/html": "<div>\n<style scoped>\n    .dataframe tbody tr th:only-of-type {\n        vertical-align: middle;\n    }\n\n    .dataframe tbody tr th {\n        vertical-align: top;\n    }\n\n    .dataframe thead th {\n        text-align: right;\n    }\n</style>\n<table border=\"1\" class=\"dataframe\">\n  <thead>\n    <tr style=\"text-align: right;\">\n      <th></th>\n      <th>Pregnancies</th>\n      <th>Glucose</th>\n      <th>BloodPressure</th>\n      <th>SkinThickness</th>\n      <th>Insulin</th>\n      <th>BMI</th>\n      <th>DiabetesPedigreeFunction</th>\n      <th>Age</th>\n      <th>Outcome</th>\n    </tr>\n  </thead>\n  <tbody>\n    <tr>\n      <th>0</th>\n      <td>6</td>\n      <td>148</td>\n      <td>72</td>\n      <td>35</td>\n      <td>0</td>\n      <td>33.6</td>\n      <td>0.627</td>\n      <td>50</td>\n      <td>1</td>\n    </tr>\n    <tr>\n      <th>1</th>\n      <td>1</td>\n      <td>85</td>\n      <td>66</td>\n      <td>29</td>\n      <td>0</td>\n      <td>26.6</td>\n      <td>0.351</td>\n      <td>31</td>\n      <td>0</td>\n    </tr>\n    <tr>\n      <th>2</th>\n      <td>8</td>\n      <td>183</td>\n      <td>64</td>\n      <td>0</td>\n      <td>0</td>\n      <td>23.3</td>\n      <td>0.672</td>\n      <td>32</td>\n      <td>1</td>\n    </tr>\n    <tr>\n      <th>3</th>\n      <td>1</td>\n      <td>89</td>\n      <td>66</td>\n      <td>23</td>\n      <td>94</td>\n      <td>28.1</td>\n      <td>0.167</td>\n      <td>21</td>\n      <td>0</td>\n    </tr>\n    <tr>\n      <th>4</th>\n      <td>0</td>\n      <td>137</td>\n      <td>40</td>\n      <td>35</td>\n      <td>168</td>\n      <td>43.1</td>\n      <td>2.288</td>\n      <td>33</td>\n      <td>1</td>\n    </tr>\n  </tbody>\n</table>\n</div>"
          },
          "metadata": {}
        }
      ]
    },
    {
      "metadata": {
        "trusted": true,
        "_uuid": "843dccdbc01e8953b4e51a4b6c19e7f96d8118f6"
      },
      "cell_type": "code",
      "source": "print(len(data))",
      "execution_count": 32,
      "outputs": [
        {
          "output_type": "stream",
          "text": "768\n",
          "name": "stdout"
        }
      ]
    },
    {
      "metadata": {
        "trusted": true,
        "_uuid": "acb865bdd2f5022a3902e780bb825800c3061c44"
      },
      "cell_type": "code",
      "source": "import seaborn as sns\n\nax = sns.countplot(data.iloc[:,-1],label=\"Count\") ",
      "execution_count": 5,
      "outputs": [
        {
          "output_type": "display_data",
          "data": {
            "text/plain": "<matplotlib.figure.Figure at 0x7f7bc617d908>",
            "image/png": "[encoded data removed]"
          },
          "metadata": {}
        }
      ]
    },
    {
      "metadata": {
        "trusted": true,
        "_uuid": "27c51e89285b703538ecc698ed7c1e9c6d22b875"
      },
      "cell_type": "code",
      "source": "train, test = train_test_split(data, test_size = 0.25, random_state = 2)",
      "execution_count": 10,
      "outputs": []
    },
    {
      "metadata": {
        "trusted": true,
        "collapsed": true,
        "_uuid": "64d4ad74d0ae4731e9b9285ba4068676f6927739"
      },
      "cell_type": "code",
      "source": "X_train, Y_train = train.iloc[:,:-1].values, train.iloc[:,-1]\nX_test, Y_test = test.iloc[:,:-1].values, test.iloc[:,-1]",
      "execution_count": 20,
      "outputs": []
    },
    {
      "metadata": {
        "trusted": true,
        "collapsed": true,
        "_uuid": "7a7290a442c3569b4dd35b4b38bbaa22499dd0de"
      },
      "cell_type": "code",
      "source": "def classification_model(model, data, predictors, outcome):\n  model.fit(data[predictors], data[outcome])\n  predictions = model.predict(data[predictors])\n  accuracy = metrics.accuracy_score(predictions,data[outcome])\n  print(\"Accuracy : %s\" % \"{0:.3%}\".format(accuracy))\n\n  #k-fold cross-validation with 5 folds\n  kf = KFold(data.shape[0], n_folds=5)\n  error = []\n  for train, test in kf:\n    # Filter training data\n    train_predictors = (data[predictors].iloc[train,:])\n    \n    # The target we're using to train the algorithm.\n    train_target = data[outcome].iloc[train]\n    \n    # Training the algorithm using the predictors and target.\n    model.fit(train_predictors, train_target)\n    \n    #Record error from each cross-validation run\n    error.append(model.score(data[predictors].iloc[test,:], data[outcome].iloc[test]))\n    \n    print(\"Cross-Validation Score : %s\" % \"{0:.3%}\".format(np.mean(error)))\n    \n  #Fit the model again so that it can be refered outside the function:\n  model.fit(data[predictors],data[outcome]) ",
      "execution_count": 11,
      "outputs": []
    },
    {
      "metadata": {
        "_uuid": "cda879a0539838be6191ae04254380b8ba6c240e"
      },
      "cell_type": "markdown",
      "source": "# 1 - Random Forest"
    },
    {
      "metadata": {
        "trusted": true,
        "collapsed": true,
        "_uuid": "50ecad89d5562de601098898bc435614c2c61ad5"
      },
      "cell_type": "code",
      "source": "def age_group(data):\n    ",
      "execution_count": null,
      "outputs": []
    },
    {
      "metadata": {
        "trusted": true,
        "_uuid": "0a4f366c0424d23dce511ca026ba949d97096098"
      },
      "cell_type": "code",
      "source": "indp_var=list(data.columns[0:-1])\noutcome_var = 'Outcome'\nmodel = RandomForestClassifier(n_estimators=100, min_samples_split=25, max_depth=7, max_features=6)\nclassification_model(model,train,indp_var,outcome_var)",
      "execution_count": 19,
      "outputs": [
        {
          "output_type": "stream",
          "text": "Accuracy : 87.326%\nCross-Validation Score : 71.552%\nCross-Validation Score : 72.732%\nCross-Validation Score : 74.285%\nCross-Validation Score : 74.410%\nCross-Validation Score : 75.006%\n",
          "name": "stdout"
        }
      ]
    },
    {
      "metadata": {
        "trusted": true,
        "_uuid": "a1067d63042cc1cbb42b55c71ac7d04478017114"
      },
      "cell_type": "code",
      "source": "classification_model(model, test, indp_var, outcome_var)",
      "execution_count": 33,
      "outputs": [
        {
          "output_type": "stream",
          "text": "Accuracy : 86.458%\nCross-Validation Score : 76.923%\nCross-Validation Score : 74.359%\nCross-Validation Score : 75.888%\nCross-Validation Score : 76.653%\nCross-Validation Score : 77.112%\n",
          "name": "stdout"
        }
      ]
    },
    {
      "metadata": {
        "trusted": true,
        "collapsed": true,
        "_uuid": "31da98f2c5d346f278f10dd935edff0697dfc972"
      },
      "cell_type": "code",
      "source": "import _pickle as cPickel\nwith open('diabetes.pickle', 'wb') as f:\n    cPickel.dump(model, f)",
      "execution_count": 34,
      "outputs": []
    },
    {
      "metadata": {
        "_kg_hide-input": true,
        "_uuid": "6ca4040cf85cb56011d1addc6debc58c9b34e257"
      },
      "cell_type": "markdown",
      "source": "#  2 - XGBoost"
    },
    {
      "metadata": {
        "trusted": true,
        "_uuid": "6be23c080d771923b148c622de54fc95e69d9d30"
      },
      "cell_type": "code",
      "source": "dtrain = xgb.DMatrix(X_train, Y_train)\ndtest = xgb.DMatrix(X_test, Y_test)\nparam = {'max_depth' : 6, 'eta' : 0.1, 'objective' : 'binary:logistic', 'seed' : 42}\nnum_round = 50\nbst = xgb.train(param, dtrain, num_round, [(dtest, 'test'), (dtrain, 'train')])",
      "execution_count": 26,
      "outputs": [
        {
          "output_type": "stream",
          "text": "[0]\ttest-error:0.291667\ttrain-error:0.159722\n[1]\ttest-error:0.270833\ttrain-error:0.142361\n[2]\ttest-error:0.270833\ttrain-error:0.145833\n[3]\ttest-error:0.270833\ttrain-error:0.114583\n[4]\ttest-error:0.265625\ttrain-error:0.116319\n[5]\ttest-error:0.265625\ttrain-error:0.112847\n[6]\ttest-error:0.255208\ttrain-error:0.118056\n[7]\ttest-error:0.260417\ttrain-error:0.112847\n[8]\ttest-error:0.255208\ttrain-error:0.112847\n[9]\ttest-error:0.239583\ttrain-error:0.104167\n[10]\ttest-error:0.244792\ttrain-error:0.105903\n[11]\ttest-error:0.229167\ttrain-error:0.098958\n[12]\ttest-error:0.234375\ttrain-error:0.100694\n[13]\ttest-error:0.25\ttrain-error:0.090278\n[14]\ttest-error:0.244792\ttrain-error:0.092014\n[15]\ttest-error:0.244792\ttrain-error:0.088542\n[16]\ttest-error:0.234375\ttrain-error:0.083333\n[17]\ttest-error:0.229167\ttrain-error:0.086806\n[18]\ttest-error:0.239583\ttrain-error:0.085069\n[19]\ttest-error:0.223958\ttrain-error:0.081597\n[20]\ttest-error:0.229167\ttrain-error:0.083333\n[21]\ttest-error:0.234375\ttrain-error:0.076389\n[22]\ttest-error:0.239583\ttrain-error:0.069444\n[23]\ttest-error:0.244792\ttrain-error:0.060764\n[24]\ttest-error:0.244792\ttrain-error:0.057292\n[25]\ttest-error:0.25\ttrain-error:0.055556\n[26]\ttest-error:0.25\ttrain-error:0.052083\n[27]\ttest-error:0.255208\ttrain-error:0.052083\n[28]\ttest-error:0.25\ttrain-error:0.046875\n[29]\ttest-error:0.244792\ttrain-error:0.041667\n[30]\ttest-error:0.244792\ttrain-error:0.038194\n[31]\ttest-error:0.239583\ttrain-error:0.032986\n[32]\ttest-error:0.244792\ttrain-error:0.034722\n[33]\ttest-error:0.244792\ttrain-error:0.026042\n[34]\ttest-error:0.255208\ttrain-error:0.026042\n[35]\ttest-error:0.255208\ttrain-error:0.024306\n[36]\ttest-error:0.25\ttrain-error:0.026042\n[37]\ttest-error:0.25\ttrain-error:0.024306\n[38]\ttest-error:0.255208\ttrain-error:0.019097\n[39]\ttest-error:0.25\ttrain-error:0.019097\n[40]\ttest-error:0.260417\ttrain-error:0.015625\n[41]\ttest-error:0.260417\ttrain-error:0.015625\n[42]\ttest-error:0.265625\ttrain-error:0.013889\n[43]\ttest-error:0.265625\ttrain-error:0.013889\n[44]\ttest-error:0.265625\ttrain-error:0.013889\n[45]\ttest-error:0.260417\ttrain-error:0.013889\n[46]\ttest-error:0.265625\ttrain-error:0.013889\n[47]\ttest-error:0.255208\ttrain-error:0.013889\n[48]\ttest-error:0.255208\ttrain-error:0.013889\n[49]\ttest-error:0.255208\ttrain-error:0.012153\n",
          "name": "stdout"
        }
      ]
    },
    {
      "metadata": {
        "trusted": true,
        "_uuid": "8cd77d7deebdbf16595d1d15d83806b70f11d1bf"
      },
      "cell_type": "code",
      "source": "preds = bst.predict(dtest)\npreds[preds > 0.5] = 1\npreds[preds <= 0.5] = 0\nprint(accuracy_score(preds, Y_test), 1 - accuracy_score(preds, Y_test))",
      "execution_count": 27,
      "outputs": [
        {
          "output_type": "stream",
          "text": "0.7447916666666666 0.25520833333333337\n",
          "name": "stdout"
        }
      ]
    },
    {
      "metadata": {
        "_uuid": "f1adef80fc9986d338ee50659ef643da06be3528"
      },
      "cell_type": "markdown",
      "source": "# 3 - SVM"
    },
    {
      "metadata": {
        "trusted": true,
        "collapsed": true,
        "_uuid": "3087c40dbd6654e99dd8e2fd957f8cc5d08ef54d"
      },
      "cell_type": "code",
      "source": "clf = SVC(kernel=\"linear\", C=0.1)\nclf.fit(X_train, Y_train)\ny_eval = clf.predict(X_test)",
      "execution_count": 29,
      "outputs": []
    },
    {
      "metadata": {
        "trusted": true,
        "_uuid": "8c8e3eb8587eb9196227421e8e51c2077097ef3f"
      },
      "cell_type": "code",
      "source": "print(accuracy_score(y_eval, Y_test))",
      "execution_count": 31,
      "outputs": [
        {
          "output_type": "stream",
          "text": "0.7708333333333334\n",
          "name": "stdout"
        }
      ]
    },
    {
      "metadata": {
        "trusted": true,
        "collapsed": true,
        "_uuid": "7ae87d259e14120a5f221b847882a45b3da1a42b"
      },
      "cell_type": "code",
      "source": "",
      "execution_count": null,
      "outputs": []
    }
  ],
  "metadata": {
    "language_info": {
      "name": "python",
      "version": "3.6.4",
      "mimetype": "text/x-python",
      "codemirror_mode": {
        "name": "ipython",
        "version": 3
      },
      "pygments_lexer": "ipython3",
      "nbconvert_exporter": "python",
      "file_extension": ".py"
    },
    "kernelspec": {
      "display_name": "Python 3",
      "language": "python",
      "name": "python3"
    }
  },
  "nbformat": 4,
  "nbformat_minor": 1
}